{
 "cells": [
  {
   "cell_type": "markdown",
   "metadata": {
    "id": "LAVS3ADjK3tt"
   },
   "source": [
    "## Load Dataset"
   ]
  },
  {
   "cell_type": "code",
   "execution_count": 1,
   "metadata": {
    "id": "VSRuINBEK3t3"
   },
   "outputs": [],
   "source": [
    "import json\n",
    "\n",
    "# Open and read the JSON file containing intent data\n",
    "with open(\"./data/intents.json\") as data_file:\n",
    "    data = data_file.read()\n",
    "\n",
    "# Parse the JSON data into a Python dictionary\n",
    "intents = json.loads(data)"
   ]
  },
  {
   "cell_type": "markdown",
   "metadata": {
    "id": "Sm6-jDvZK3t5"
   },
   "source": [
    "## Data Preprocessing"
   ]
  },
  {
   "cell_type": "code",
   "source": [
    "# Import necessary libraries\n",
    "import nltk\n",
    "from nltk.stem import WordNetLemmatizer\n",
    "\n",
    "# Initialize WordNet lemmatizer\n",
    "lemmatizer = WordNetLemmatizer()\n",
    "\n",
    "# Download NLTK resources (if not already downloaded)\n",
    "nltk.download(\"punkt\")\n",
    "nltk.download(\"wordnet\")"
   ],
   "metadata": {
    "colab": {
     "base_uri": "https://localhost:8080/"
    },
    "id": "vhcT95JwPnyO",
    "outputId": "b04f8943-9131-41e1-9626-cd1af4237c3d"
   },
   "execution_count": 2,
   "outputs": [
    {
     "output_type": "stream",
     "name": "stderr",
     "text": [
      "[nltk_data] Downloading package punkt to /root/nltk_data...\n",
      "[nltk_data]   Package punkt is already up-to-date!\n",
      "[nltk_data] Downloading package wordnet to /root/nltk_data...\n",
      "[nltk_data]   Package wordnet is already up-to-date!\n"
     ]
    },
    {
     "output_type": "execute_result",
     "data": {
      "text/plain": [
       "True"
      ]
     },
     "metadata": {},
     "execution_count": 2
    }
   ]
  },
  {
   "cell_type": "code",
   "execution_count": 3,
   "metadata": {
    "id": "Rn39OmDcK3t6"
   },
   "outputs": [],
   "source": [
    "# Initialize lists to hold words, classes, and document tuples\n",
    "words = []\n",
    "classes = []\n",
    "documents = []\n",
    "\n",
    "# Define punctuation marks to ignore during processing\n",
    "ignore_words = [\"?\", \"!\"]\n",
    "\n",
    "# Iterate over intents and their patterns\n",
    "for intent in intents[\"intents\"]:\n",
    "    for pattern in intent[\"patterns\"]:\n",
    "        # Tokenize each word in the pattern\n",
    "        w = nltk.word_tokenize(pattern)\n",
    "\n",
    "        # Extend the words list with tokenized words\n",
    "        words.extend(w)\n",
    "\n",
    "        # Add documents to the corpus as tuples containing tokenized words and intent tag\n",
    "        documents.append((w, intent[\"tag\"]))\n",
    "\n",
    "        # Add the intent tag to the classes list if it's not already present\n",
    "        if intent[\"tag\"] not in classes:\n",
    "            classes.append(intent[\"tag\"])"
   ]
  },
  {
   "cell_type": "markdown",
   "source": [
    "### Lemmatize, Convert to lowercase, and Remove duplicates"
   ],
   "metadata": {
    "id": "szsgsvFZGHBt"
   }
  },
  {
   "cell_type": "code",
   "execution_count": 4,
   "metadata": {
    "id": "n9vqhcI1K3t7",
    "outputId": "26afa405-ceb6-46df-d9c1-84a583bca093",
    "colab": {
     "base_uri": "https://localhost:8080/"
    }
   },
   "outputs": [
    {
     "output_type": "stream",
     "name": "stdout",
     "text": [
      "12 documents\n",
      "4 classes ['goodbye', 'greeting', 'options', 'thanks']\n",
      "19 unique lemmatized words ['appreciate', 'bye', 'can', 'do', 'goodbye', 'hello', 'help', 'hey', 'hi', 'how', 'it', 'later', 'offer', 'see', 'service', 'thank', 'thanks', 'what', 'you']\n"
     ]
    }
   ],
   "source": [
    "# Lemmatize, convert to lowercase, and remove duplicates from the words list\n",
    "words = [lemmatizer.lemmatize(w.lower()) for w in words if w not in ignore_words]\n",
    "words = sorted(list(set(words)))\n",
    "\n",
    "# Sort the classes list\n",
    "classes = sorted(list(set(classes)))\n",
    "\n",
    "# Print information about the dataset\n",
    "print(len(documents), \"documents\")  # Total number of documents (patterns and intents)\n",
    "print(len(classes), \"classes\", classes)  # Total number of classes (intents)\n",
    "print(\n",
    "    len(words), \"unique lemmatized words\", words\n",
    ")  # Total number of unique lemmatized words"
   ]
  },
  {
   "cell_type": "markdown",
   "source": [
    "### Save words and classes list"
   ],
   "metadata": {
    "id": "NGngf2ulGU7z"
   }
  },
  {
   "cell_type": "code",
   "source": [
    "import pickle\n",
    "\n",
    "!rm -rf models\n",
    "!mkdir \"models\"\n",
    "\n",
    "# Save processed data to pickle files for future use\n",
    "with open(\"./models/words.pkl\", \"wb\") as words_file:\n",
    "    pickle.dump(words, words_file)  # Save the words list to a pickle file\n",
    "\n",
    "with open(\"./models/classes.pkl\", \"wb\") as classes_file:\n",
    "    pickle.dump(classes, classes_file)  # Save the classes list to a pickle file"
   ],
   "metadata": {
    "id": "WQul-ut-CMMs"
   },
   "execution_count": 5,
   "outputs": []
  },
  {
   "cell_type": "markdown",
   "metadata": {
    "id": "5Cygt96iK3t9"
   },
   "source": [
    "## Data Splitting"
   ]
  },
  {
   "cell_type": "code",
   "execution_count": 6,
   "metadata": {
    "id": "meJXd_rkK3t9",
    "outputId": "dbbb5920-bb14-40ea-8825-7bcb1b780473",
    "colab": {
     "base_uri": "https://localhost:8080/"
    }
   },
   "outputs": [
    {
     "output_type": "stream",
     "name": "stdout",
     "text": [
      "Training data created\n"
     ]
    }
   ],
   "source": [
    "import random\n",
    "\n",
    "# Prepare training data\n",
    "training_data = []\n",
    "\n",
    "# Iterate over each document (pattern and intent)\n",
    "for doc in documents:\n",
    "    # Initialize our bag of words\n",
    "    bag_of_words = []\n",
    "\n",
    "    # Get the list of tokenized words for the pattern\n",
    "    pattern_words = doc[0]\n",
    "\n",
    "    # Lemmatize each word to its base form\n",
    "    pattern_words = [lemmatizer.lemmatize(word.lower()) for word in pattern_words]\n",
    "\n",
    "    # Create the bag of words array\n",
    "    for word in words:\n",
    "        bag_of_words.append(1) if word in pattern_words else bag_of_words.append(0)\n",
    "\n",
    "    # Generate the output row: '0' for each tag and '1' for the current tag\n",
    "    output_row = [0] * len(classes)\n",
    "    output_row[classes.index(doc[1])] = 1\n",
    "\n",
    "    # Add the bag of words and output row to the training data\n",
    "    training_data.append([bag_of_words, output_row])\n",
    "\n",
    "# Shuffle the training data\n",
    "random.shuffle(training_data)\n",
    "\n",
    "# Create train_x and train_y lists\n",
    "train_x = [data[0] for data in training_data]  # Features\n",
    "train_y = [data[1] for data in training_data]  # Labels\n",
    "\n",
    "# Print a message indicating the completion of training data creation\n",
    "print(\"Training data created\")"
   ]
  },
  {
   "cell_type": "markdown",
   "metadata": {
    "id": "YjrEUCXYK3t-"
   },
   "source": [
    "## Model Building"
   ]
  },
  {
   "cell_type": "code",
   "execution_count": 7,
   "metadata": {
    "id": "i2-lmvrDK3t-",
    "outputId": "f0de4d84-5894-4241-de82-7cef1e5954ab",
    "colab": {
     "base_uri": "https://localhost:8080/"
    }
   },
   "outputs": [
    {
     "output_type": "stream",
     "name": "stdout",
     "text": [
      "Model: \"sequential\"\n",
      "_________________________________________________________________\n",
      " Layer (type)                Output Shape              Param #   \n",
      "=================================================================\n",
      " dense (Dense)               (None, 128)               2560      \n",
      "                                                                 \n",
      " dropout (Dropout)           (None, 128)               0         \n",
      "                                                                 \n",
      " dense_1 (Dense)             (None, 64)                8256      \n",
      "                                                                 \n",
      " dropout_1 (Dropout)         (None, 64)                0         \n",
      "                                                                 \n",
      " dense_2 (Dense)             (None, 4)                 260       \n",
      "                                                                 \n",
      "=================================================================\n",
      "Total params: 11076 (43.27 KB)\n",
      "Trainable params: 11076 (43.27 KB)\n",
      "Non-trainable params: 0 (0.00 Byte)\n",
      "_________________________________________________________________\n"
     ]
    }
   ],
   "source": [
    "from keras.layers import Dense, Dropout\n",
    "from keras.models import Sequential\n",
    "from keras.optimizers import SGD\n",
    "\n",
    "model = Sequential()\n",
    "model.add(Dense(128, input_shape=(len(train_x[0]),), activation=\"relu\"))\n",
    "model.add(Dropout(0.5))\n",
    "model.add(Dense(64, activation=\"relu\"))\n",
    "model.add(Dropout(0.5))\n",
    "model.add(Dense(len(train_y[0]), activation=\"softmax\"))\n",
    "sgd = SGD(learning_rate=0.01, momentum=0.9, nesterov=True)\n",
    "model.compile(loss=\"categorical_crossentropy\", optimizer=sgd, metrics=[\"accuracy\"])\n",
    "model.summary()"
   ]
  },
  {
   "cell_type": "code",
   "source": [
    "import numpy as np\n",
    "\n",
    "hist = model.fit(\n",
    "    np.array(train_x), np.array(train_y), epochs=100, batch_size=5, verbose=1\n",
    ")"
   ],
   "metadata": {
    "colab": {
     "base_uri": "https://localhost:8080/"
    },
    "id": "7KwW_AwAFDHY",
    "outputId": "c62e0364-1b17-44d0-86b4-e49b671ee99a"
   },
   "execution_count": 8,
   "outputs": [
    {
     "output_type": "stream",
     "name": "stdout",
     "text": [
      "Epoch 1/100\n",
      "3/3 [==============================] - 3s 28ms/step - loss: 1.4195 - accuracy: 0.3333\n",
      "Epoch 2/100\n",
      "3/3 [==============================] - 0s 26ms/step - loss: 1.4863 - accuracy: 0.2500\n",
      "Epoch 3/100\n",
      "3/3 [==============================] - 0s 14ms/step - loss: 1.3323 - accuracy: 0.3333\n",
      "Epoch 4/100\n",
      "3/3 [==============================] - 0s 15ms/step - loss: 1.3575 - accuracy: 0.4167\n",
      "Epoch 5/100\n",
      "3/3 [==============================] - 0s 15ms/step - loss: 1.2773 - accuracy: 0.4167\n",
      "Epoch 6/100\n",
      "3/3 [==============================] - 0s 31ms/step - loss: 1.2259 - accuracy: 0.5833\n",
      "Epoch 7/100\n",
      "3/3 [==============================] - 0s 17ms/step - loss: 1.2373 - accuracy: 0.4167\n",
      "Epoch 8/100\n",
      "3/3 [==============================] - 0s 15ms/step - loss: 1.3016 - accuracy: 0.5833\n",
      "Epoch 9/100\n",
      "3/3 [==============================] - 0s 12ms/step - loss: 1.1159 - accuracy: 0.6667\n",
      "Epoch 10/100\n",
      "3/3 [==============================] - 0s 10ms/step - loss: 1.1474 - accuracy: 0.5000\n",
      "Epoch 11/100\n",
      "3/3 [==============================] - 0s 15ms/step - loss: 1.1076 - accuracy: 0.8333\n",
      "Epoch 12/100\n",
      "3/3 [==============================] - 0s 13ms/step - loss: 1.0610 - accuracy: 0.5833\n",
      "Epoch 13/100\n",
      "3/3 [==============================] - 0s 48ms/step - loss: 1.0442 - accuracy: 0.7500\n",
      "Epoch 14/100\n",
      "3/3 [==============================] - 0s 20ms/step - loss: 0.8916 - accuracy: 0.8333\n",
      "Epoch 15/100\n",
      "3/3 [==============================] - 0s 30ms/step - loss: 0.9703 - accuracy: 0.7500\n",
      "Epoch 16/100\n",
      "3/3 [==============================] - 0s 51ms/step - loss: 1.0085 - accuracy: 0.6667\n",
      "Epoch 17/100\n",
      "3/3 [==============================] - 0s 15ms/step - loss: 0.8567 - accuracy: 0.7500\n",
      "Epoch 18/100\n",
      "3/3 [==============================] - 0s 8ms/step - loss: 0.8742 - accuracy: 0.7500\n",
      "Epoch 19/100\n",
      "3/3 [==============================] - 0s 8ms/step - loss: 0.8153 - accuracy: 0.7500\n",
      "Epoch 20/100\n",
      "3/3 [==============================] - 0s 12ms/step - loss: 0.8970 - accuracy: 0.5833\n",
      "Epoch 21/100\n",
      "3/3 [==============================] - 0s 12ms/step - loss: 0.6324 - accuracy: 0.7500\n",
      "Epoch 22/100\n",
      "3/3 [==============================] - 0s 14ms/step - loss: 0.7692 - accuracy: 0.7500\n",
      "Epoch 23/100\n",
      "3/3 [==============================] - 0s 9ms/step - loss: 0.6672 - accuracy: 0.8333\n",
      "Epoch 24/100\n",
      "3/3 [==============================] - 0s 10ms/step - loss: 0.5968 - accuracy: 0.9167\n",
      "Epoch 25/100\n",
      "3/3 [==============================] - 0s 10ms/step - loss: 0.6735 - accuracy: 0.7500\n",
      "Epoch 26/100\n",
      "3/3 [==============================] - 0s 15ms/step - loss: 0.7905 - accuracy: 0.5833\n",
      "Epoch 27/100\n",
      "3/3 [==============================] - 0s 14ms/step - loss: 0.4037 - accuracy: 1.0000\n",
      "Epoch 28/100\n",
      "3/3 [==============================] - 0s 13ms/step - loss: 0.5403 - accuracy: 0.9167\n",
      "Epoch 29/100\n",
      "3/3 [==============================] - 0s 11ms/step - loss: 0.5202 - accuracy: 0.8333\n",
      "Epoch 30/100\n",
      "3/3 [==============================] - 0s 8ms/step - loss: 0.4382 - accuracy: 1.0000\n",
      "Epoch 31/100\n",
      "3/3 [==============================] - 0s 8ms/step - loss: 0.7153 - accuracy: 0.6667\n",
      "Epoch 32/100\n",
      "3/3 [==============================] - 0s 16ms/step - loss: 0.4736 - accuracy: 0.9167\n",
      "Epoch 33/100\n",
      "3/3 [==============================] - 0s 8ms/step - loss: 0.3462 - accuracy: 0.9167\n",
      "Epoch 34/100\n",
      "3/3 [==============================] - 0s 8ms/step - loss: 0.4267 - accuracy: 0.9167\n",
      "Epoch 35/100\n",
      "3/3 [==============================] - 0s 9ms/step - loss: 0.2637 - accuracy: 1.0000\n",
      "Epoch 36/100\n",
      "3/3 [==============================] - 0s 10ms/step - loss: 0.2979 - accuracy: 1.0000\n",
      "Epoch 37/100\n",
      "3/3 [==============================] - 0s 8ms/step - loss: 0.2660 - accuracy: 0.9167\n",
      "Epoch 38/100\n",
      "3/3 [==============================] - 0s 9ms/step - loss: 0.1973 - accuracy: 1.0000\n",
      "Epoch 39/100\n",
      "3/3 [==============================] - 0s 8ms/step - loss: 0.3499 - accuracy: 0.9167\n",
      "Epoch 40/100\n",
      "3/3 [==============================] - 0s 8ms/step - loss: 0.2963 - accuracy: 0.9167\n",
      "Epoch 41/100\n",
      "3/3 [==============================] - 0s 10ms/step - loss: 0.2488 - accuracy: 1.0000\n",
      "Epoch 42/100\n",
      "3/3 [==============================] - 0s 10ms/step - loss: 0.2548 - accuracy: 1.0000\n",
      "Epoch 43/100\n",
      "3/3 [==============================] - 0s 10ms/step - loss: 0.2267 - accuracy: 0.9167\n",
      "Epoch 44/100\n",
      "3/3 [==============================] - 0s 8ms/step - loss: 0.1932 - accuracy: 1.0000\n",
      "Epoch 45/100\n",
      "3/3 [==============================] - 0s 15ms/step - loss: 0.1746 - accuracy: 1.0000\n",
      "Epoch 46/100\n",
      "3/3 [==============================] - 0s 8ms/step - loss: 0.2475 - accuracy: 0.8333\n",
      "Epoch 47/100\n",
      "3/3 [==============================] - 0s 8ms/step - loss: 0.2331 - accuracy: 1.0000\n",
      "Epoch 48/100\n",
      "3/3 [==============================] - 0s 10ms/step - loss: 0.1586 - accuracy: 1.0000\n",
      "Epoch 49/100\n",
      "3/3 [==============================] - 0s 9ms/step - loss: 0.1270 - accuracy: 1.0000\n",
      "Epoch 50/100\n",
      "3/3 [==============================] - 0s 13ms/step - loss: 0.4008 - accuracy: 0.8333\n",
      "Epoch 51/100\n",
      "3/3 [==============================] - 0s 15ms/step - loss: 0.3758 - accuracy: 0.9167\n",
      "Epoch 52/100\n",
      "3/3 [==============================] - 0s 8ms/step - loss: 0.1544 - accuracy: 1.0000\n",
      "Epoch 53/100\n",
      "3/3 [==============================] - 0s 12ms/step - loss: 0.2338 - accuracy: 1.0000\n",
      "Epoch 54/100\n",
      "3/3 [==============================] - 0s 7ms/step - loss: 0.2595 - accuracy: 0.9167\n",
      "Epoch 55/100\n",
      "3/3 [==============================] - 0s 9ms/step - loss: 0.1574 - accuracy: 1.0000\n",
      "Epoch 56/100\n",
      "3/3 [==============================] - 0s 10ms/step - loss: 0.0669 - accuracy: 1.0000\n",
      "Epoch 57/100\n",
      "3/3 [==============================] - 0s 9ms/step - loss: 0.1132 - accuracy: 1.0000\n",
      "Epoch 58/100\n",
      "3/3 [==============================] - 0s 9ms/step - loss: 0.0489 - accuracy: 1.0000\n",
      "Epoch 59/100\n",
      "3/3 [==============================] - 0s 9ms/step - loss: 0.1367 - accuracy: 1.0000\n",
      "Epoch 60/100\n",
      "3/3 [==============================] - 0s 10ms/step - loss: 0.1273 - accuracy: 1.0000\n",
      "Epoch 61/100\n",
      "3/3 [==============================] - 0s 8ms/step - loss: 0.0816 - accuracy: 1.0000\n",
      "Epoch 62/100\n",
      "3/3 [==============================] - 0s 10ms/step - loss: 0.0993 - accuracy: 1.0000\n",
      "Epoch 63/100\n",
      "3/3 [==============================] - 0s 9ms/step - loss: 0.1649 - accuracy: 1.0000\n",
      "Epoch 64/100\n",
      "3/3 [==============================] - 0s 13ms/step - loss: 0.0558 - accuracy: 1.0000\n",
      "Epoch 65/100\n",
      "3/3 [==============================] - 0s 11ms/step - loss: 0.0393 - accuracy: 1.0000\n",
      "Epoch 66/100\n",
      "3/3 [==============================] - 0s 8ms/step - loss: 0.0881 - accuracy: 1.0000\n",
      "Epoch 67/100\n",
      "3/3 [==============================] - 0s 9ms/step - loss: 0.0403 - accuracy: 1.0000\n",
      "Epoch 68/100\n",
      "3/3 [==============================] - 0s 11ms/step - loss: 0.2803 - accuracy: 0.9167\n",
      "Epoch 69/100\n",
      "3/3 [==============================] - 0s 11ms/step - loss: 0.0671 - accuracy: 1.0000\n",
      "Epoch 70/100\n",
      "3/3 [==============================] - 0s 12ms/step - loss: 0.0806 - accuracy: 1.0000\n",
      "Epoch 71/100\n",
      "3/3 [==============================] - 0s 11ms/step - loss: 0.0459 - accuracy: 1.0000\n",
      "Epoch 72/100\n",
      "3/3 [==============================] - 0s 13ms/step - loss: 0.0500 - accuracy: 1.0000\n",
      "Epoch 73/100\n",
      "3/3 [==============================] - 0s 13ms/step - loss: 0.0523 - accuracy: 1.0000\n",
      "Epoch 74/100\n",
      "3/3 [==============================] - 0s 7ms/step - loss: 0.0443 - accuracy: 1.0000\n",
      "Epoch 75/100\n",
      "3/3 [==============================] - 0s 10ms/step - loss: 0.0314 - accuracy: 1.0000\n",
      "Epoch 76/100\n",
      "3/3 [==============================] - 0s 8ms/step - loss: 0.1427 - accuracy: 1.0000\n",
      "Epoch 77/100\n",
      "3/3 [==============================] - 0s 12ms/step - loss: 0.0636 - accuracy: 1.0000\n",
      "Epoch 78/100\n",
      "3/3 [==============================] - 0s 10ms/step - loss: 0.2574 - accuracy: 0.9167\n",
      "Epoch 79/100\n",
      "3/3 [==============================] - 0s 19ms/step - loss: 0.1358 - accuracy: 0.9167\n",
      "Epoch 80/100\n",
      "3/3 [==============================] - 0s 14ms/step - loss: 0.0277 - accuracy: 1.0000\n",
      "Epoch 81/100\n",
      "3/3 [==============================] - 0s 12ms/step - loss: 0.0663 - accuracy: 1.0000\n",
      "Epoch 82/100\n",
      "3/3 [==============================] - 0s 9ms/step - loss: 0.0834 - accuracy: 1.0000\n",
      "Epoch 83/100\n",
      "3/3 [==============================] - 0s 8ms/step - loss: 0.0621 - accuracy: 1.0000\n",
      "Epoch 84/100\n",
      "3/3 [==============================] - 0s 9ms/step - loss: 0.0241 - accuracy: 1.0000\n",
      "Epoch 85/100\n",
      "3/3 [==============================] - 0s 14ms/step - loss: 0.0764 - accuracy: 1.0000\n",
      "Epoch 86/100\n",
      "3/3 [==============================] - 0s 16ms/step - loss: 0.0140 - accuracy: 1.0000\n",
      "Epoch 87/100\n",
      "3/3 [==============================] - 0s 8ms/step - loss: 0.2519 - accuracy: 0.9167\n",
      "Epoch 88/100\n",
      "3/3 [==============================] - 0s 9ms/step - loss: 0.0315 - accuracy: 1.0000\n",
      "Epoch 89/100\n",
      "3/3 [==============================] - 0s 9ms/step - loss: 0.0843 - accuracy: 1.0000\n",
      "Epoch 90/100\n",
      "3/3 [==============================] - 0s 9ms/step - loss: 0.0846 - accuracy: 1.0000\n",
      "Epoch 91/100\n",
      "3/3 [==============================] - 0s 9ms/step - loss: 0.0403 - accuracy: 1.0000\n",
      "Epoch 92/100\n",
      "3/3 [==============================] - 0s 12ms/step - loss: 0.0165 - accuracy: 1.0000\n",
      "Epoch 93/100\n",
      "3/3 [==============================] - 0s 11ms/step - loss: 0.0109 - accuracy: 1.0000\n",
      "Epoch 94/100\n",
      "3/3 [==============================] - 0s 29ms/step - loss: 0.0650 - accuracy: 1.0000\n",
      "Epoch 95/100\n",
      "3/3 [==============================] - 0s 14ms/step - loss: 0.0090 - accuracy: 1.0000\n",
      "Epoch 96/100\n",
      "3/3 [==============================] - 0s 15ms/step - loss: 0.0489 - accuracy: 1.0000\n",
      "Epoch 97/100\n",
      "3/3 [==============================] - 0s 16ms/step - loss: 0.0481 - accuracy: 1.0000\n",
      "Epoch 98/100\n",
      "3/3 [==============================] - 0s 19ms/step - loss: 0.0767 - accuracy: 1.0000\n",
      "Epoch 99/100\n",
      "3/3 [==============================] - 0s 16ms/step - loss: 0.0440 - accuracy: 1.0000\n",
      "Epoch 100/100\n",
      "3/3 [==============================] - 0s 13ms/step - loss: 0.0637 - accuracy: 1.0000\n"
     ]
    }
   ]
  },
  {
   "cell_type": "markdown",
   "source": [
    "## Model Saving"
   ],
   "metadata": {
    "id": "Rk6zJt42dwi5"
   }
  },
  {
   "cell_type": "code",
   "source": [
    "model.save(\"./models/model.keras\", hist)"
   ],
   "metadata": {
    "id": "v5Ix7RRTFihN"
   },
   "execution_count": 9,
   "outputs": []
  },
  {
   "cell_type": "markdown",
   "source": [
    "## Chatbot Testing"
   ],
   "metadata": {
    "id": "yL2r45S5d0X_"
   }
  },
  {
   "cell_type": "code",
   "source": [
    "def clean_up_sentence(sentence: str) -> list:\n",
    "    \"\"\"\n",
    "    Tokenizes and lemmatizes the input sentence.\n",
    "\n",
    "    Args:\n",
    "    sentence (str): Input sentence to be cleaned up.\n",
    "\n",
    "    Returns:\n",
    "    list: List of lemmatized words.\n",
    "    \"\"\"\n",
    "    sentence_words = nltk.word_tokenize(sentence)\n",
    "    sentence_words = [lemmatizer.lemmatize(word.lower()) for word in sentence_words]\n",
    "    return sentence_words\n",
    "\n",
    "\n",
    "def bow(sentence: str, words: list, show_details: bool = True) -> np.array:\n",
    "    \"\"\"\n",
    "    Converts a sentence into a bag of words array.\n",
    "\n",
    "    Args:\n",
    "    sentence (str): Input sentence.\n",
    "    words (list): List of words from the vocabulary.\n",
    "    show_details (bool): Whether to print details or not.\n",
    "\n",
    "    Returns:\n",
    "    np.array: Bag of words array.\n",
    "    \"\"\"\n",
    "    sentence_words = clean_up_sentence(sentence)\n",
    "    bag = [0] * len(words)\n",
    "    for s in sentence_words:\n",
    "        for i, w in enumerate(words):\n",
    "            if w == s:\n",
    "                bag[i] = 1\n",
    "                if show_details:\n",
    "                    print(\"found in bag: %s\" % w)\n",
    "    return np.array(bag)\n",
    "\n",
    "\n",
    "def predict_class(sentence: str, model) -> list:\n",
    "    \"\"\"\n",
    "    Predicts the intent of the input sentence.\n",
    "\n",
    "    Args:\n",
    "    sentence (str): Input sentence.\n",
    "    model: Trained model for prediction.\n",
    "\n",
    "    Returns:\n",
    "    list: List of intents with their probabilities.\n",
    "    \"\"\"\n",
    "    p = bow(sentence, words, show_details=False)\n",
    "    res = model.predict(np.array([p]))[0]\n",
    "    ERROR_THRESHOLD = 0.25\n",
    "    results = [[i, r] for i, r in enumerate(res) if r > ERROR_THRESHOLD]\n",
    "    results.sort(key=lambda x: x[1], reverse=True)\n",
    "    return_list = []\n",
    "    for r in results:\n",
    "        return_list.append({\"intent\": classes[r[0]], \"probability\": str(r[1])})\n",
    "    return return_list\n",
    "\n",
    "\n",
    "def get_response(ints: list, intents_json: dict) -> str:\n",
    "    \"\"\"\n",
    "    Retrieves a response based on the predicted intent.\n",
    "\n",
    "    Args:\n",
    "    ints (list): List of predicted intents with their probabilities.\n",
    "    intents_json (dict): JSON object containing intents and responses.\n",
    "\n",
    "    Returns:\n",
    "    str: Response message.\n",
    "    \"\"\"\n",
    "    tag = ints[0][\"intent\"]\n",
    "    list_of_intents = intents_json[\"intents\"]\n",
    "    for i in list_of_intents:\n",
    "        if i[\"tag\"] == tag:\n",
    "            result = random.choice(i[\"responses\"])\n",
    "            break\n",
    "    return result\n",
    "\n",
    "\n",
    "def chatbot_response(text: str) -> str:\n",
    "    \"\"\"\n",
    "    Generates a response from the chatbot based on the input text.\n",
    "\n",
    "    Args:\n",
    "    text (str): Input text from the user.\n",
    "\n",
    "    Returns:\n",
    "    str: Response message from the chatbot.\n",
    "    \"\"\"\n",
    "    ints = predict_class(text, model)\n",
    "    res = get_response(ints, intents)\n",
    "    return res\n",
    "\n",
    "\n",
    "chatbot_response(\"Hi\")"
   ],
   "metadata": {
    "id": "wcxakMZMNfdY",
    "outputId": "f3847de1-add9-4f26-e728-430146573df7",
    "colab": {
     "base_uri": "https://localhost:8080/",
     "height": 53
    }
   },
   "execution_count": 10,
   "outputs": [
    {
     "output_type": "stream",
     "name": "stdout",
     "text": [
      "1/1 [==============================] - 0s 479ms/step\n"
     ]
    },
    {
     "output_type": "execute_result",
     "data": {
      "text/plain": [
       "'Hi there! What can I do for you?'"
      ],
      "application/vnd.google.colaboratory.intrinsic+json": {
       "type": "string"
      }
     },
     "metadata": {},
     "execution_count": 10
    }
   ]
  }
 ],
 "metadata": {
  "kernelspec": {
   "display_name": "Python 3",
   "language": "python",
   "name": "python3"
  },
  "language_info": {
   "codemirror_mode": {
    "name": "ipython",
    "version": 3
   },
   "file_extension": ".py",
   "mimetype": "text/x-python",
   "name": "python",
   "nbconvert_exporter": "python",
   "pygments_lexer": "ipython3",
   "version": "3.11.4"
  },
  "colab": {
   "provenance": []
  }
 },
 "nbformat": 4,
 "nbformat_minor": 0
}